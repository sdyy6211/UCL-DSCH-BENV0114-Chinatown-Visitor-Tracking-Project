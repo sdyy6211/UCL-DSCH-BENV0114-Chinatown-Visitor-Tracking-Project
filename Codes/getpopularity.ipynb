{
 "cells": [
  {
   "cell_type": "markdown",
   "metadata": {},
   "source": [
    "## this is used to retireve popularity data from Google Maps"
   ]
  },
  {
   "cell_type": "code",
   "execution_count": 0,
   "metadata": {
    "colab": {
     "base_uri": "https://localhost:8080/",
     "height": 389
    },
    "colab_type": "code",
    "id": "JZp0y_RBffJn",
    "outputId": "8cec0ede-4917-48b1-b2e5-13ffce3c9fcf"
   },
   "outputs": [
    {
     "name": "stdout",
     "output_type": "stream",
     "text": [
      "Collecting git+https://github.com/m-wrzr/populartimes\n",
      "  Cloning https://github.com/m-wrzr/populartimes to /tmp/pip-req-build-8blmphoy\n",
      "  Running command git clone -q https://github.com/m-wrzr/populartimes /tmp/pip-req-build-8blmphoy\n",
      "Requirement already satisfied, skipping upgrade: requests in /usr/local/lib/python3.6/dist-packages (from populartimes==2.0) (2.21.0)\n",
      "Requirement already satisfied, skipping upgrade: geopy in /usr/local/lib/python3.6/dist-packages (from populartimes==2.0) (1.17.0)\n",
      "Requirement already satisfied, skipping upgrade: certifi>=2017.4.17 in /usr/local/lib/python3.6/dist-packages (from requests->populartimes==2.0) (2019.11.28)\n",
      "Requirement already satisfied, skipping upgrade: idna<2.9,>=2.5 in /usr/local/lib/python3.6/dist-packages (from requests->populartimes==2.0) (2.8)\n",
      "Requirement already satisfied, skipping upgrade: urllib3<1.25,>=1.21.1 in /usr/local/lib/python3.6/dist-packages (from requests->populartimes==2.0) (1.24.3)\n",
      "Requirement already satisfied, skipping upgrade: chardet<3.1.0,>=3.0.2 in /usr/local/lib/python3.6/dist-packages (from requests->populartimes==2.0) (3.0.4)\n",
      "Requirement already satisfied, skipping upgrade: geographiclib<2,>=1.49 in /usr/local/lib/python3.6/dist-packages (from geopy->populartimes==2.0) (1.50)\n",
      "Building wheels for collected packages: populartimes\n",
      "  Building wheel for populartimes (setup.py) ... \u001b[?25l\u001b[?25hdone\n",
      "  Created wheel for populartimes: filename=populartimes-2.0-cp36-none-any.whl size=13368 sha256=9a322f779469f68828294aa5229ce6266c341105e59ff1e94d278929b4a7d904\n",
      "  Stored in directory: /tmp/pip-ephem-wheel-cache-vroyzpvi/wheels/75/ae/aa/56b796466ed114d29102c9f74ec35c9a41b53c69ac5215d58a\n",
      "Successfully built populartimes\n",
      "Installing collected packages: populartimes\n",
      "  Found existing installation: populartimes 2.0\n",
      "    Uninstalling populartimes-2.0:\n",
      "      Successfully uninstalled populartimes-2.0\n",
      "Successfully installed populartimes-2.0\n"
     ]
    }
   ],
   "source": [
    "!pip install --upgrade git+https://github.com/m-wrzr/populartimes ###firstly install this package\n",
    "import populartimes"
   ]
  },
  {
   "cell_type": "code",
   "execution_count": null,
   "metadata": {},
   "outputs": [],
   "source": [
    "path = r'E:\\UCL\\BENV0114\\CHINATOWN\\alldata' ### customize this path to excute following codes"
   ]
  },
  {
   "cell_type": "code",
   "execution_count": 0,
   "metadata": {
    "colab": {},
    "colab_type": "code",
    "id": "dBcsfy9Rfrn2"
   },
   "outputs": [],
   "source": [
    "import os\n",
    "import pandas as pd\n",
    "import json\n",
    "os.chdir(path)\n",
    "metadata = pd.read_csv('metadata.csv')"
   ]
  },
  {
   "cell_type": "markdown",
   "metadata": {},
   "source": [
    "### retrieve data"
   ]
  },
  {
   "cell_type": "code",
   "execution_count": 0,
   "metadata": {
    "colab": {},
    "colab_type": "code",
    "id": "IWzF7Ul2g6EN"
   },
   "outputs": [],
   "source": [
    "import time\n",
    "results_details_list = []\n",
    "for i in range(metadata.shape[0]):\n",
    "    pid = metadata.loc[i,'place_id']\n",
    "    result = populartimes.get_id('googlemapskey',pid)\n",
    "    results_details_list.append(result)\n",
    "    time.sleep(2)"
   ]
  },
  {
   "cell_type": "markdown",
   "metadata": {},
   "source": [
    "### save results"
   ]
  },
  {
   "cell_type": "code",
   "execution_count": 0,
   "metadata": {
    "colab": {},
    "colab_type": "code",
    "id": "gglYg3jZix8_"
   },
   "outputs": [],
   "source": [
    "os.chdir(path+'Popularity')\n",
    "for i in results_details_list:\n",
    "    with open(i['name'].replace('|','').replace('/',''), 'w', encoding='utf-8') as f:\n",
    "        f.write(json.dumps(i, ensure_ascii=False))"
   ]
  }
 ],
 "metadata": {
  "colab": {
   "collapsed_sections": [],
   "name": "getpopularity.ipynb",
   "provenance": []
  },
  "kernelspec": {
   "display_name": "Python 3",
   "language": "python",
   "name": "python3"
  },
  "language_info": {
   "codemirror_mode": {
    "name": "ipython",
    "version": 3
   },
   "file_extension": ".py",
   "mimetype": "text/x-python",
   "name": "python",
   "nbconvert_exporter": "python",
   "pygments_lexer": "ipython3",
   "version": "3.7.3"
  }
 },
 "nbformat": 4,
 "nbformat_minor": 1
}
