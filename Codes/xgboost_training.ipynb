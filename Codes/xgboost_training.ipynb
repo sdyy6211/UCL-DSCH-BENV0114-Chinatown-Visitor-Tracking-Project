{
 "cells": [
  {
   "cell_type": "markdown",
   "metadata": {},
   "source": [
    "# this is used to train the xgboost classification algorithm"
   ]
  },
  {
   "cell_type": "code",
   "execution_count": 10,
   "metadata": {
    "colab": {},
    "colab_type": "code",
    "id": "RZH6n8ovBmbw"
   },
   "outputs": [],
   "source": [
    "import os\n",
    "import numpy as np\n",
    "import matplotlib.pyplot as plt\n",
    "import pandas as pd\n",
    "import pickle"
   ]
  },
  {
   "cell_type": "code",
   "execution_count": 11,
   "metadata": {},
   "outputs": [],
   "source": [
    "path = r'' ### customize this path to excute following codes"
   ]
  },
  {
   "cell_type": "markdown",
   "metadata": {},
   "source": [
    "### reading the relevant data"
   ]
  },
  {
   "cell_type": "code",
   "execution_count": 12,
   "metadata": {
    "colab": {},
    "colab_type": "code",
    "id": "0DcD69B3Cfvm"
   },
   "outputs": [],
   "source": [
    "metadata = pd.read_csv(path+'\\metadata.csv')"
   ]
  },
  {
   "cell_type": "code",
   "execution_count": 13,
   "metadata": {
    "colab": {},
    "colab_type": "code",
    "id": "1IUHyKHkit-a"
   },
   "outputs": [],
   "source": [
    "train_dataset = pd.read_csv(path+r'\\NLP_training\\train_dataset.csv')\n",
    "x_train = train_dataset['text']\n",
    "y_train = train_dataset['label']\n",
    "test_dataset = pd.read_csv(path+r'\\NLP_training\\test_dataset.csv')\n",
    "x_test = test_dataset['text']\n",
    "y_test = test_dataset['label']"
   ]
  },
  {
   "cell_type": "markdown",
   "metadata": {},
   "source": [
    "### vectorize the words to be used in xgboost"
   ]
  },
  {
   "cell_type": "code",
   "execution_count": 14,
   "metadata": {
    "colab": {},
    "colab_type": "code",
    "id": "hlY9DX6aAsA3"
   },
   "outputs": [],
   "source": [
    "from sklearn.feature_extraction.text import TfidfVectorizer\n",
    "\n",
    "input = x_train.copy()\n",
    "\n",
    "tfidf = TfidfVectorizer(max_features = 10000,max_df=0.99,min_df = 2,stop_words = 'english',ngram_range = (1,2))\n",
    "tfidf.fit(input)\n",
    "x_train = tfidf.transform(x_train)\n",
    "x_test = tfidf.transform(x_test)"
   ]
  },
  {
   "cell_type": "code",
   "execution_count": 15,
   "metadata": {
    "colab": {
     "base_uri": "https://localhost:8080/",
     "height": 269
    },
    "colab_type": "code",
    "id": "ijwKqqrYBMZ0",
    "outputId": "406245c6-47ce-498c-d6d5-73ddb249c53b"
   },
   "outputs": [
    {
     "data": {
      "text/html": [
       "<div>\n",
       "<style scoped>\n",
       "    .dataframe tbody tr th:only-of-type {\n",
       "        vertical-align: middle;\n",
       "    }\n",
       "\n",
       "    .dataframe tbody tr th {\n",
       "        vertical-align: top;\n",
       "    }\n",
       "\n",
       "    .dataframe thead th {\n",
       "        text-align: right;\n",
       "    }\n",
       "</style>\n",
       "<table border=\"1\" class=\"dataframe\">\n",
       "  <thead>\n",
       "    <tr style=\"text-align: right;\">\n",
       "      <th></th>\n",
       "      <th>00</th>\n",
       "      <th>10</th>\n",
       "      <th>10 10</th>\n",
       "      <th>10 50</th>\n",
       "      <th>10 95</th>\n",
       "      <th>10 min</th>\n",
       "      <th>10 mins</th>\n",
       "      <th>10 minutes</th>\n",
       "      <th>10 pay</th>\n",
       "      <th>10 person</th>\n",
       "      <th>...</th>\n",
       "      <th>yummy dim</th>\n",
       "      <th>yummy food</th>\n",
       "      <th>yummy good</th>\n",
       "      <th>yummy place</th>\n",
       "      <th>yummy service</th>\n",
       "      <th>yummy yummy</th>\n",
       "      <th>zero</th>\n",
       "      <th>zero star</th>\n",
       "      <th>zero stars</th>\n",
       "      <th>zone</th>\n",
       "    </tr>\n",
       "  </thead>\n",
       "  <tbody>\n",
       "    <tr>\n",
       "      <th>0</th>\n",
       "      <td>0.0</td>\n",
       "      <td>0.0</td>\n",
       "      <td>0.0</td>\n",
       "      <td>0.0</td>\n",
       "      <td>0.0</td>\n",
       "      <td>0.0</td>\n",
       "      <td>0.0</td>\n",
       "      <td>0.0</td>\n",
       "      <td>0.0</td>\n",
       "      <td>0.0</td>\n",
       "      <td>...</td>\n",
       "      <td>0.0</td>\n",
       "      <td>0.0</td>\n",
       "      <td>0.0</td>\n",
       "      <td>0.0</td>\n",
       "      <td>0.0</td>\n",
       "      <td>0.0</td>\n",
       "      <td>0.0</td>\n",
       "      <td>0.0</td>\n",
       "      <td>0.0</td>\n",
       "      <td>0.0</td>\n",
       "    </tr>\n",
       "    <tr>\n",
       "      <th>1</th>\n",
       "      <td>0.0</td>\n",
       "      <td>0.0</td>\n",
       "      <td>0.0</td>\n",
       "      <td>0.0</td>\n",
       "      <td>0.0</td>\n",
       "      <td>0.0</td>\n",
       "      <td>0.0</td>\n",
       "      <td>0.0</td>\n",
       "      <td>0.0</td>\n",
       "      <td>0.0</td>\n",
       "      <td>...</td>\n",
       "      <td>0.0</td>\n",
       "      <td>0.0</td>\n",
       "      <td>0.0</td>\n",
       "      <td>0.0</td>\n",
       "      <td>0.0</td>\n",
       "      <td>0.0</td>\n",
       "      <td>0.0</td>\n",
       "      <td>0.0</td>\n",
       "      <td>0.0</td>\n",
       "      <td>0.0</td>\n",
       "    </tr>\n",
       "    <tr>\n",
       "      <th>2</th>\n",
       "      <td>0.0</td>\n",
       "      <td>0.0</td>\n",
       "      <td>0.0</td>\n",
       "      <td>0.0</td>\n",
       "      <td>0.0</td>\n",
       "      <td>0.0</td>\n",
       "      <td>0.0</td>\n",
       "      <td>0.0</td>\n",
       "      <td>0.0</td>\n",
       "      <td>0.0</td>\n",
       "      <td>...</td>\n",
       "      <td>0.0</td>\n",
       "      <td>0.0</td>\n",
       "      <td>0.0</td>\n",
       "      <td>0.0</td>\n",
       "      <td>0.0</td>\n",
       "      <td>0.0</td>\n",
       "      <td>0.0</td>\n",
       "      <td>0.0</td>\n",
       "      <td>0.0</td>\n",
       "      <td>0.0</td>\n",
       "    </tr>\n",
       "    <tr>\n",
       "      <th>3</th>\n",
       "      <td>0.0</td>\n",
       "      <td>0.0</td>\n",
       "      <td>0.0</td>\n",
       "      <td>0.0</td>\n",
       "      <td>0.0</td>\n",
       "      <td>0.0</td>\n",
       "      <td>0.0</td>\n",
       "      <td>0.0</td>\n",
       "      <td>0.0</td>\n",
       "      <td>0.0</td>\n",
       "      <td>...</td>\n",
       "      <td>0.0</td>\n",
       "      <td>0.0</td>\n",
       "      <td>0.0</td>\n",
       "      <td>0.0</td>\n",
       "      <td>0.0</td>\n",
       "      <td>0.0</td>\n",
       "      <td>0.0</td>\n",
       "      <td>0.0</td>\n",
       "      <td>0.0</td>\n",
       "      <td>0.0</td>\n",
       "    </tr>\n",
       "    <tr>\n",
       "      <th>4</th>\n",
       "      <td>0.0</td>\n",
       "      <td>0.0</td>\n",
       "      <td>0.0</td>\n",
       "      <td>0.0</td>\n",
       "      <td>0.0</td>\n",
       "      <td>0.0</td>\n",
       "      <td>0.0</td>\n",
       "      <td>0.0</td>\n",
       "      <td>0.0</td>\n",
       "      <td>0.0</td>\n",
       "      <td>...</td>\n",
       "      <td>0.0</td>\n",
       "      <td>0.0</td>\n",
       "      <td>0.0</td>\n",
       "      <td>0.0</td>\n",
       "      <td>0.0</td>\n",
       "      <td>0.0</td>\n",
       "      <td>0.0</td>\n",
       "      <td>0.0</td>\n",
       "      <td>0.0</td>\n",
       "      <td>0.0</td>\n",
       "    </tr>\n",
       "  </tbody>\n",
       "</table>\n",
       "<p>5 rows × 10000 columns</p>\n",
       "</div>"
      ],
      "text/plain": [
       "    00   10  10 10  10 50  10 95  10 min  10 mins  10 minutes  10 pay  \\\n",
       "0  0.0  0.0    0.0    0.0    0.0     0.0      0.0         0.0     0.0   \n",
       "1  0.0  0.0    0.0    0.0    0.0     0.0      0.0         0.0     0.0   \n",
       "2  0.0  0.0    0.0    0.0    0.0     0.0      0.0         0.0     0.0   \n",
       "3  0.0  0.0    0.0    0.0    0.0     0.0      0.0         0.0     0.0   \n",
       "4  0.0  0.0    0.0    0.0    0.0     0.0      0.0         0.0     0.0   \n",
       "\n",
       "   10 person  ...  yummy dim  yummy food  yummy good  yummy place  \\\n",
       "0        0.0  ...        0.0         0.0         0.0          0.0   \n",
       "1        0.0  ...        0.0         0.0         0.0          0.0   \n",
       "2        0.0  ...        0.0         0.0         0.0          0.0   \n",
       "3        0.0  ...        0.0         0.0         0.0          0.0   \n",
       "4        0.0  ...        0.0         0.0         0.0          0.0   \n",
       "\n",
       "   yummy service  yummy yummy  zero  zero star  zero stars  zone  \n",
       "0            0.0          0.0   0.0        0.0         0.0   0.0  \n",
       "1            0.0          0.0   0.0        0.0         0.0   0.0  \n",
       "2            0.0          0.0   0.0        0.0         0.0   0.0  \n",
       "3            0.0          0.0   0.0        0.0         0.0   0.0  \n",
       "4            0.0          0.0   0.0        0.0         0.0   0.0  \n",
       "\n",
       "[5 rows x 10000 columns]"
      ]
     },
     "execution_count": 15,
     "metadata": {},
     "output_type": "execute_result"
    }
   ],
   "source": [
    "features = pd.DataFrame(x_train.todense(), columns = tfidf.get_feature_names())\n",
    "\n",
    "features.head()"
   ]
  },
  {
   "cell_type": "markdown",
   "metadata": {},
   "source": [
    "### train the xgboost classifier"
   ]
  },
  {
   "cell_type": "code",
   "execution_count": 16,
   "metadata": {
    "colab": {},
    "colab_type": "code",
    "id": "rfPwqFo2BOy0"
   },
   "outputs": [],
   "source": [
    "from sklearn.linear_model import LogisticRegressionCV\n",
    "from sklearn.ensemble import RandomForestClassifier\n",
    "from xgboost import XGBClassifier\n",
    "from sklearn.model_selection import train_test_split\n",
    "xgbc = XGBClassifier(500,colsample_bylevel = 0.9,colsample_bytree = 0.9)"
   ]
  },
  {
   "cell_type": "code",
   "execution_count": null,
   "metadata": {},
   "outputs": [],
   "source": [
    "xgbc.fit(x_train,y_train)\n",
    "pickle.dump(xgbc, open(path+r'xgboost.dat', 'wb'))"
   ]
  },
  {
   "cell_type": "code",
   "execution_count": 17,
   "metadata": {
    "colab": {},
    "colab_type": "code",
    "id": "JSPYjmrVok_s"
   },
   "outputs": [],
   "source": [
    "xgbc = pickle.load(open(path+r'\\xgboost.dat', 'rb'))"
   ]
  },
  {
   "cell_type": "code",
   "execution_count": 18,
   "metadata": {
    "colab": {},
    "colab_type": "code",
    "id": "OXxn3DdVBS8h"
   },
   "outputs": [],
   "source": [
    "pred_xgbc = xgbc.predict(x_test)"
   ]
  },
  {
   "cell_type": "code",
   "execution_count": 19,
   "metadata": {
    "colab": {},
    "colab_type": "code",
    "id": "ML7EJgiV7tKs"
   },
   "outputs": [],
   "source": [
    "pd.DataFrame(pred_xgbc).to_csv('pred_xgbc.csv',index = False)"
   ]
  },
  {
   "cell_type": "markdown",
   "metadata": {},
   "source": [
    "### make relevant analysis of the prediction results"
   ]
  },
  {
   "cell_type": "code",
   "execution_count": 20,
   "metadata": {
    "colab": {
     "base_uri": "https://localhost:8080/",
     "height": 105
    },
    "colab_type": "code",
    "id": "hvjK_P1LBUSN",
    "outputId": "6ad00b48-ae60-433d-a3a2-8bd9ffcae240",
    "scrolled": true
   },
   "outputs": [
    {
     "data": {
      "text/plain": [
       "array([[0.72      , 0.47619048, 0.18333333, 0.01530612, 0.02247191],\n",
       "       [0.11      , 0.14285714, 0.13333333, 0.03571429, 0.01123596],\n",
       "       [0.09      , 0.19047619, 0.3       , 0.19897959, 0.03691814],\n",
       "       [0.05      , 0.04761905, 0.28333333, 0.42346939, 0.24879615],\n",
       "       [0.03      , 0.14285714, 0.1       , 0.32653061, 0.68057785]])"
      ]
     },
     "execution_count": 20,
     "metadata": {},
     "output_type": "execute_result"
    }
   ],
   "source": [
    "from sklearn.metrics import confusion_matrix,f1_score,accuracy_score\n",
    "\n",
    "confusion_matrix(y_test,pred_xgbc,normalize = 'pred')"
   ]
  },
  {
   "cell_type": "code",
   "execution_count": 21,
   "metadata": {
    "colab": {
     "base_uri": "https://localhost:8080/",
     "height": 282
    },
    "colab_type": "code",
    "id": "ZOrk0YfmgqvE",
    "outputId": "bac7047d-a7e5-4a8e-98f5-607f41d44cd9"
   },
   "outputs": [
    {
     "data": {
      "text/plain": [
       "<matplotlib.axes._subplots.AxesSubplot at 0x161809b4e80>"
      ]
     },
     "execution_count": 21,
     "metadata": {},
     "output_type": "execute_result"
    },
    {
     "data": {
      "image/png": "[encoded data removed]",
      "text/plain": [
       "<Figure size 432x288 with 2 Axes>"
      ]
     },
     "metadata": {
      "needs_background": "light"
     },
     "output_type": "display_data"
    }
   ],
   "source": [
    "import seaborn as sns\n",
    "sns.heatmap(confusion_matrix(y_test,pred_xgbc,normalize = 'pred'))"
   ]
  },
  {
   "cell_type": "code",
   "execution_count": 22,
   "metadata": {
    "colab": {
     "base_uri": "https://localhost:8080/",
     "height": 34
    },
    "colab_type": "code",
    "id": "mx4AYWaeBXWY",
    "outputId": "5e1476e7-cb62-4253-c60f-a9136d02b881"
   },
   "outputs": [
    {
     "name": "stdout",
     "output_type": "stream",
     "text": [
      "[0.68571429 0.10526316 0.23529412 0.36323851 0.75512021]\n"
     ]
    }
   ],
   "source": [
    "print(f1_score(y_test,pred_xgbc,average = None))"
   ]
  },
  {
   "cell_type": "code",
   "execution_count": 23,
   "metadata": {
    "colab": {
     "base_uri": "https://localhost:8080/",
     "height": 34
    },
    "colab_type": "code",
    "id": "zePD7kYCBXt8",
    "outputId": "a4abea3e-266c-402a-ba3b-4ecdf0e1f3dd"
   },
   "outputs": [
    {
     "data": {
      "text/plain": [
       "0.6"
      ]
     },
     "execution_count": 23,
     "metadata": {},
     "output_type": "execute_result"
    }
   ],
   "source": [
    "accuracy_score(y_test,pred_xgbc)"
   ]
  }
 ],
 "metadata": {
  "colab": {
   "collapsed_sections": [],
   "name": "analysis.ipynb",
   "provenance": []
  },
  "kernelspec": {
   "display_name": "Python 3",
   "language": "python",
   "name": "python3"
  },
  "language_info": {
   "codemirror_mode": {
    "name": "ipython",
    "version": 3
   },
   "file_extension": ".py",
   "mimetype": "text/x-python",
   "name": "python",
   "nbconvert_exporter": "python",
   "pygments_lexer": "ipython3",
   "version": "3.7.3"
  }
 },
 "nbformat": 4,
 "nbformat_minor": 1
}
