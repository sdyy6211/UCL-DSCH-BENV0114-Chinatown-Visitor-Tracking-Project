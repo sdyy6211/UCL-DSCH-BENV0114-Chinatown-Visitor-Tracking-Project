{
 "cells": [
  {
   "cell_type": "markdown",
   "metadata": {},
   "source": [
    "## this is used to retrive data from Google Maps official api"
   ]
  },
  {
   "cell_type": "code",
   "execution_count": 21,
   "metadata": {},
   "outputs": [],
   "source": [
    "import os"
   ]
  },
  {
   "cell_type": "code",
   "execution_count": 22,
   "metadata": {},
   "outputs": [],
   "source": [
    "path = r'' ### customize this path to excute following codes"
   ]
  },
  {
   "cell_type": "code",
   "execution_count": 23,
   "metadata": {},
   "outputs": [],
   "source": [
    "os.chdir(path)"
   ]
  },
  {
   "cell_type": "markdown",
   "metadata": {},
   "source": [
    "### loading names of each site"
   ]
  },
  {
   "cell_type": "code",
   "execution_count": 24,
   "metadata": {},
   "outputs": [],
   "source": [
    "with open('places.txt','r',encoding = 'utf-8') as f:\n",
    "    names = f.read()"
   ]
  },
  {
   "cell_type": "code",
   "execution_count": 25,
   "metadata": {},
   "outputs": [],
   "source": [
    "names_cleaned = [name for name in names.split('\\n') if name != '']"
   ]
  },
  {
   "cell_type": "code",
   "execution_count": 5,
   "metadata": {},
   "outputs": [],
   "source": [
    "import requests\n",
    "import json\n",
    "import time"
   ]
  },
  {
   "cell_type": "markdown",
   "metadata": {},
   "source": [
    "### get rough data of each site"
   ]
  },
  {
   "cell_type": "code",
   "execution_count": 28,
   "metadata": {},
   "outputs": [],
   "source": [
    "results_list = []\n",
    "for i in names_cleaned:\n",
    "    endpoint_url = \"https://maps.googleapis.com/maps/api/place/findplacefromtext/json\"\n",
    "    params = {\n",
    "        'input': i,\n",
    "        'inputtype': 'textquery',\n",
    "        'circle':'500@51.511725,-0.131061',\n",
    "        'fields':'name,place_id,geometry,types',\n",
    "        'key': 'googlemapskey'\n",
    "    }\n",
    "    res = requests.get(endpoint_url, params = params)\n",
    "    results = json.loads(res.content)\n",
    "    results_list.append(results)"
   ]
  },
  {
   "cell_type": "code",
   "execution_count": 30,
   "metadata": {},
   "outputs": [],
   "source": [
    "os.chdir(path+'places')"
   ]
  },
  {
   "cell_type": "markdown",
   "metadata": {},
   "source": [
    "### save results and extract ids from the rough data"
   ]
  },
  {
   "cell_type": "code",
   "execution_count": 31,
   "metadata": {},
   "outputs": [
    {
     "name": "stdout",
     "output_type": "stream",
     "text": [
      "LEON\n",
      "MW Buffet\n"
     ]
    }
   ],
   "source": [
    "id_list = []\n",
    "for i in range(len(results_list)):\n",
    "    try:\n",
    "        print(results_list[i]['candidates'][0]['name'])\n",
    "        with open(results_list[i]['candidates'][0]['name'],'w',encoding = 'utf-8') as f:\n",
    "            f.write(json.dumps(results_list[i], ensure_ascii=False))\n",
    "        id_list.append(results_list[i]['candidates'][0]['place_id'])\n",
    "    except:\n",
    "        print(names_cleaned[i]+'--------------------------------------------------')"
   ]
  },
  {
   "cell_type": "markdown",
   "metadata": {},
   "source": [
    "### get more detailed data for each site"
   ]
  },
  {
   "cell_type": "code",
   "execution_count": 33,
   "metadata": {},
   "outputs": [
    {
     "name": "stdout",
     "output_type": "stream",
     "text": [
      "get 0th, wait 2 seconds\n",
      "get 1th, wait 2 seconds\n"
     ]
    }
   ],
   "source": [
    "endpoint_url_details = \"https://maps.googleapis.com/maps/api/place/details/json\"\n",
    "results_details_list = []\n",
    "for each_id in range(len(id_list)):\n",
    "    params_details = {\n",
    "        'place_id': str(id_list[each_id]),\n",
    "        'key': 'googlemapskey'\n",
    "    }\n",
    "    res_details = requests.get(endpoint_url_details, params = params_details)\n",
    "    results_details = json.loads(res_details.content)\n",
    "    results_details_list.append(results_details)\n",
    "    print('get {0}th, wait 2 seconds'.format(each_id))\n",
    "    time.sleep(2)"
   ]
  },
  {
   "cell_type": "markdown",
   "metadata": {},
   "source": [
    "### save the results"
   ]
  },
  {
   "cell_type": "code",
   "execution_count": 34,
   "metadata": {},
   "outputs": [],
   "source": [
    "os.chdir(path+'\\details')"
   ]
  },
  {
   "cell_type": "code",
   "execution_count": 36,
   "metadata": {},
   "outputs": [],
   "source": [
    "for i in results_details_list:\n",
    "    with open(i['result']['name'].replace('|','').replace('/',''), 'w', encoding='utf-8') as f:\n",
    "        f.write(json.dumps(i, ensure_ascii=False))"
   ]
  }
 ],
 "metadata": {
  "kernelspec": {
   "display_name": "Python 3",
   "language": "python",
   "name": "python3"
  },
  "language_info": {
   "codemirror_mode": {
    "name": "ipython",
    "version": 3
   },
   "file_extension": ".py",
   "mimetype": "text/x-python",
   "name": "python",
   "nbconvert_exporter": "python",
   "pygments_lexer": "ipython3",
   "version": "3.6.4"
  }
 },
 "nbformat": 4,
 "nbformat_minor": 2
}
