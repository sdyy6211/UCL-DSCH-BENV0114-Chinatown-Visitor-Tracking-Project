{
 "cells": [
  {
   "cell_type": "markdown",
   "metadata": {},
   "source": [
    "## this codes are used to conduct a t-test"
   ]
  },
  {
   "cell_type": "code",
   "execution_count": 1,
   "metadata": {},
   "outputs": [],
   "source": [
    "import pandas as pd\n",
    "import numpy as np\n",
    "import os\n",
    "import time\n",
    "import json\n",
    "import string"
   ]
  },
  {
   "cell_type": "code",
   "execution_count": 2,
   "metadata": {},
   "outputs": [],
   "source": [
    "path = r'' ### customize this path to excute following codes"
   ]
  },
  {
   "cell_type": "markdown",
   "metadata": {},
   "source": [
    "### conducting a t-test by using key words listed in the following cell"
   ]
  },
  {
   "cell_type": "code",
   "execution_count": 3,
   "metadata": {},
   "outputs": [],
   "source": [
    "sum_data = pd.read_csv(path+'\\sum_alldata_extra_2.csv')"
   ]
  },
  {
   "cell_type": "code",
   "execution_count": 4,
   "metadata": {},
   "outputs": [],
   "source": [
    "index = []\n",
    "words_list = ['culture','chinese','cultural','authentic','china'\n",
    "              ,'chinatown','china town','asian']\n",
    "for i in range(sum_data.shape[0]):\n",
    "    if any([word in sum_data.loc[i,'text'] for word in words_list]):\n",
    "        index.append(i)\n",
    "_index = sum_data.index.difference(index)"
   ]
  },
  {
   "cell_type": "markdown",
   "metadata": {},
   "source": [
    "### the following codes conduct a t-test to see whether the mean of two groups differ "
   ]
  },
  {
   "cell_type": "code",
   "execution_count": 5,
   "metadata": {},
   "outputs": [],
   "source": [
    "from scipy.stats import distributions\n",
    "def paired_test(x1,x2):\n",
    "    group_mean1 = x1.mean()\n",
    "    group_mean2 = x2.mean()\n",
    "    group_var1 = x1.var()\n",
    "    group_var2 = x2.var()\n",
    "    group_n1 = x1.shape[0]\n",
    "    group_n2 = x2.shape[0]\n",
    "    T = (group_mean1-group_mean2)/np.sqrt(group_var1/group_n1+group_var2/group_n2)\n",
    "    df = ((group_var1/group_n1+group_var2/group_n2)**2)/((1/(group_n1-1))*(group_var1/group_n1)**2+(1/(group_n2-1))*(group_var2/group_n2)**2)\n",
    "    p_value = distributions.t(df).cdf(-abs(T))*2\n",
    "    return {'Mean of group1':group_mean1,\n",
    "            'Mean of group2':group_mean2,\n",
    "            'Standard error of group1':np.sqrt(group_var1/group_n1),\n",
    "            'Standard error of group2':np.sqrt(group_var2/group_n2),\n",
    "            'Test_statistic':T,\n",
    "            'degrees of freedom':df,\n",
    "            'p-value':p_value.round(6)}"
   ]
  },
  {
   "cell_type": "code",
   "execution_count": 6,
   "metadata": {},
   "outputs": [
    {
     "data": {
      "text/plain": [
       "{'Mean of group1': 4.20153305653146,\n",
       " 'Mean of group2': 3.948359040565333,\n",
       " 'Standard error of group1': 0.020111476333797618,\n",
       " 'Standard error of group2': 0.011110083098456503,\n",
       " 'Test_statistic': 11.018971693041788,\n",
       " 'degrees of freedom': 5228.320763990536,\n",
       " 'p-value': 0.0}"
      ]
     },
     "execution_count": 6,
     "metadata": {},
     "output_type": "execute_result"
    }
   ],
   "source": [
    "paired_test(sum_data.loc[index,:].label,sum_data.loc[_index,:].label)"
   ]
  }
 ],
 "metadata": {
  "kernelspec": {
   "display_name": "Python 3",
   "language": "python",
   "name": "python3"
  },
  "language_info": {
   "codemirror_mode": {
    "name": "ipython",
    "version": 3
   },
   "file_extension": ".py",
   "mimetype": "text/x-python",
   "name": "python",
   "nbconvert_exporter": "python",
   "pygments_lexer": "ipython3",
   "version": "3.6.4"
  }
 },
 "nbformat": 4,
 "nbformat_minor": 2
}
